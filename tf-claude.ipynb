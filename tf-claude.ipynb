{
 "cells": [
  {
   "cell_type": "code",
   "execution_count": 1,
   "id": "9e524163",
   "metadata": {
    "execution": {
     "iopub.execute_input": "2024-10-29T23:34:25.437683Z",
     "iopub.status.busy": "2024-10-29T23:34:25.436631Z",
     "iopub.status.idle": "2024-10-29T23:34:25.442284Z",
     "shell.execute_reply": "2024-10-29T23:34:25.441482Z"
    },
    "papermill": {
     "duration": 0.015216,
     "end_time": "2024-10-29T23:34:25.444358",
     "exception": false,
     "start_time": "2024-10-29T23:34:25.429142",
     "status": "completed"
    },
    "tags": []
   },
   "outputs": [],
   "source": [
    "# import sys\n",
    "# scripts_path = \"/kaggle/input/commonscripts\"\n",
    "# if not scripts_path in sys.path:\n",
    "#     sys.path.append(scripts_path)\n",
    "# from read_data import *\n",
    "\n"
   ]
  },
  {
   "cell_type": "code",
   "execution_count": 2,
   "id": "ace53769",
   "metadata": {
    "execution": {
     "iopub.execute_input": "2024-10-29T23:34:25.455939Z",
     "iopub.status.busy": "2024-10-29T23:34:25.455596Z",
     "iopub.status.idle": "2024-10-29T23:34:40.677783Z",
     "shell.execute_reply": "2024-10-29T23:34:40.676912Z"
    },
    "papermill": {
     "duration": 15.23076,
     "end_time": "2024-10-29T23:34:40.680479",
     "exception": false,
     "start_time": "2024-10-29T23:34:25.449719",
     "status": "completed"
    },
    "tags": []
   },
   "outputs": [],
   "source": [
    "# This Python 3 environment comes with many helpful analytics libraries installed\n",
    "# It is defined by the kaggle/python Docker image: https://github.com/kaggle/docker-python\n",
    "# For example, here's several helpful packages to load\n",
    "\n",
    "import numpy as np # linear algebra\n",
    "import pandas as pd # data processing, CSV file I/O (e.g. pd.read_csv)\n",
    "\n",
    "# Input data files are available in the read-only \"../input/\" directory\n",
    "# For example, running this (by clicking run or pressing Shift+Enter) will list all files under the input directory\n",
    "\n",
    "import os\n",
    "import glob\n",
    "import cv2\n",
    "import datetime\n",
    "\n",
    "\n",
    "%load_ext tensorboard\n",
    "\n",
    "import tensorflow as tf\n",
    "from tensorflow.keras import layers, models\n",
    "import numpy as np\n",
    "import matplotlib.pyplot as plt\n",
    "from sklearn.model_selection import train_test_split\n",
    "from sklearn.datasets import make_classification\n",
    "from sklearn.metrics import confusion_matrix, ConfusionMatrixDisplay\n",
    "from sklearn.svm import SVC"
   ]
  },
  {
   "cell_type": "code",
   "execution_count": 3,
   "id": "f4153b18",
   "metadata": {
    "execution": {
     "iopub.execute_input": "2024-10-29T23:34:40.692786Z",
     "iopub.status.busy": "2024-10-29T23:34:40.692189Z",
     "iopub.status.idle": "2024-10-29T23:34:40.698314Z",
     "shell.execute_reply": "2024-10-29T23:34:40.697345Z"
    },
    "papermill": {
     "duration": 0.014396,
     "end_time": "2024-10-29T23:34:40.700363",
     "exception": false,
     "start_time": "2024-10-29T23:34:40.685967",
     "status": "completed"
    },
    "tags": []
   },
   "outputs": [],
   "source": [
    "# Data preprocessing function\n",
    "def preprocess_spectrogram(spectrogram):\n",
    "    is_valid = True\n",
    "    spectrogram_std = np.std(spectrogram)\n",
    "    if spectrogram_std == 0.0:\n",
    "        is_valid = False\n",
    "    else:\n",
    "        # Normalize the spectrogram\n",
    "        spectrogram = (spectrogram - np.mean(spectrogram)) / spectrogram_std\n",
    "    # Add channel dimension\n",
    "    spectrogram = np.expand_dims(spectrogram, axis=-1)\n",
    "    return spectrogram, is_valid"
   ]
  },
  {
   "cell_type": "code",
   "execution_count": 4,
   "id": "04062134",
   "metadata": {
    "execution": {
     "iopub.execute_input": "2024-10-29T23:34:40.712039Z",
     "iopub.status.busy": "2024-10-29T23:34:40.711703Z",
     "iopub.status.idle": "2024-10-29T23:35:05.762997Z",
     "shell.execute_reply": "2024-10-29T23:35:05.761922Z"
    },
    "papermill": {
     "duration": 25.059931,
     "end_time": "2024-10-29T23:35:05.765656",
     "exception": false,
     "start_time": "2024-10-29T23:34:40.705725",
     "status": "completed"
    },
    "tags": []
   },
   "outputs": [],
   "source": [
    "filenames_train = glob.glob('/kaggle/input/ne-mo-2-summer-challenge/train/spectrograms/*/*.jpeg')\n",
    "filenames_other = glob.glob('/kaggle/input/ne-mo-2-summer-challenge/other/spectrograms/*.jpeg')\n",
    "filenames_other = filenames_other\n",
    "filenames_val = glob.glob('/kaggle/input/ne-mo-2-summer-challenge/test/spectrograms/*.jpeg')\n",
    "\n",
    "# X = np.zeros((len(filenames_train) + len(filenames_other), 48, 256), np.float32)\n",
    "# X_val = np.zeros((len(filenames_val), 48, 256))\n",
    "# y = np.zeros((len(filenames_train) + len(filenames_other)))\n",
    "\n",
    "df_columns = ['row_id', 'class_id', 'filename', 'spectrogram', 'spectrogram_pre', 'wav', 'valid']\n",
    "data_df = pd.DataFrame(columns=df_columns)\n",
    "other_df = pd.DataFrame(columns=df_columns)\n",
    "val_df = pd.DataFrame(columns=df_columns)\n",
    "\n",
    "for i, filename in enumerate(filenames_train):\n",
    "    path_split = filename.split(os.path.sep)\n",
    "#     print(\"\\n\".join(path_split))\n",
    "    class_id = path_split[-2].replace(\"bird\", \"\")\n",
    "    row_id = path_split[-1].replace(\".jpeg\", \"\")\n",
    "#     print(class_id.replace(\"bird\", \"\"))\n",
    "    img = cv2.imread(filename, cv2.IMREAD_UNCHANGED)\n",
    "    img_pre, is_valid = preprocess_spectrogram(img)\n",
    "#     X[i, :, :] = img\n",
    "#     y[i] = class_id\n",
    "    if is_valid:\n",
    "        data_df.loc[i] = {'row_id': int(row_id), 'class_id': int(class_id), 'filename': filename, 'spectrogram': img, 'spectrogram_pre': img_pre, 'wav': None, 'valid': is_valid}\n",
    "    \n",
    "for i, filename in enumerate(filenames_other):\n",
    "    path_split = filename.split(os.path.sep)\n",
    "    img = cv2.imread(filename, cv2.IMREAD_UNCHANGED)\n",
    "    img_pre, is_valid = preprocess_spectrogram(img)\n",
    "#     X[i + len(filenames_train), :, :] = img\n",
    "#     y[i + len(filenames_train)] = 5\n",
    "    if is_valid:\n",
    "        other_df.loc[i] = {'row_id': int(row_id), 'class_id': int(class_id), 'filename': filename, 'spectrogram': img, 'spectrogram_pre': img_pre, 'wav': None, 'valid': is_valid}\n",
    "    \n",
    "for i, filename in enumerate(filenames_val):\n",
    "    img = cv2.imread(filename, cv2.IMREAD_UNCHANGED)\n",
    "    img_pre, is_valid = preprocess_spectrogram(img)\n",
    "    path_split = filename.split(os.path.sep)\n",
    "#     X_val[i, :, :] = cv2.imread(filename, cv2.IMREAD_UNCHANGED)\n",
    "    val_df.loc[i] = {'row_id': int(row_id), 'filename': filename, 'spectrogram': img, 'spectrogram_pre': img_pre, 'wav': None, 'valid': is_valid}"
   ]
  },
  {
   "cell_type": "code",
   "execution_count": 5,
   "id": "0793970f",
   "metadata": {
    "execution": {
     "iopub.execute_input": "2024-10-29T23:35:05.778497Z",
     "iopub.status.busy": "2024-10-29T23:35:05.778132Z",
     "iopub.status.idle": "2024-10-29T23:35:05.811941Z",
     "shell.execute_reply": "2024-10-29T23:35:05.810929Z"
    },
    "papermill": {
     "duration": 0.043532,
     "end_time": "2024-10-29T23:35:05.815100",
     "exception": false,
     "start_time": "2024-10-29T23:35:05.771568",
     "status": "completed"
    },
    "tags": []
   },
   "outputs": [
    {
     "name": "stdout",
     "output_type": "stream",
     "text": [
      "Train:\n",
      "<class 'pandas.core.frame.DataFrame'>\n",
      "Index: 1906 entries, 0 to 1908\n",
      "Data columns (total 7 columns):\n",
      " #   Column           Non-Null Count  Dtype \n",
      "---  ------           --------------  ----- \n",
      " 0   row_id           1906 non-null   int64 \n",
      " 1   class_id         1906 non-null   int64 \n",
      " 2   filename         1906 non-null   object\n",
      " 3   spectrogram      1906 non-null   object\n",
      " 4   spectrogram_pre  1906 non-null   object\n",
      " 5   wav              0 non-null      object\n",
      " 6   valid            1906 non-null   bool  \n",
      "dtypes: bool(1), int64(2), object(4)\n",
      "memory usage: 106.1+ KB\n",
      "\n",
      "Other:\n",
      "<class 'pandas.core.frame.DataFrame'>\n",
      "Index: 15 entries, 0 to 14\n",
      "Data columns (total 7 columns):\n",
      " #   Column           Non-Null Count  Dtype \n",
      "---  ------           --------------  ----- \n",
      " 0   row_id           15 non-null     int64 \n",
      " 1   class_id         15 non-null     int64 \n",
      " 2   filename         15 non-null     object\n",
      " 3   spectrogram      15 non-null     object\n",
      " 4   spectrogram_pre  15 non-null     object\n",
      " 5   wav              0 non-null      object\n",
      " 6   valid            15 non-null     bool  \n",
      "dtypes: bool(1), int64(2), object(4)\n",
      "memory usage: 855.0+ bytes\n",
      "\n",
      "Val:\n",
      "<class 'pandas.core.frame.DataFrame'>\n",
      "Index: 1095 entries, 0 to 1094\n",
      "Data columns (total 7 columns):\n",
      " #   Column           Non-Null Count  Dtype  \n",
      "---  ------           --------------  -----  \n",
      " 0   row_id           1095 non-null   int64  \n",
      " 1   class_id         0 non-null      float64\n",
      " 2   filename         1095 non-null   object \n",
      " 3   spectrogram      1095 non-null   object \n",
      " 4   spectrogram_pre  1095 non-null   object \n",
      " 5   wav              0 non-null      object \n",
      " 6   valid            1095 non-null   bool   \n",
      "dtypes: bool(1), float64(1), int64(1), object(4)\n",
      "memory usage: 61.0+ KB\n"
     ]
    }
   ],
   "source": [
    "print('Train:')\n",
    "data_df.info()\n",
    "print('\\nOther:')\n",
    "other_df.info()\n",
    "print('\\nVal:')\n",
    "val_df.info()"
   ]
  },
  {
   "cell_type": "code",
   "execution_count": 6,
   "id": "30d4ed10",
   "metadata": {
    "execution": {
     "iopub.execute_input": "2024-10-29T23:35:05.829956Z",
     "iopub.status.busy": "2024-10-29T23:35:05.829549Z",
     "iopub.status.idle": "2024-10-29T23:35:05.843481Z",
     "shell.execute_reply": "2024-10-29T23:35:05.842398Z"
    },
    "papermill": {
     "duration": 0.022975,
     "end_time": "2024-10-29T23:35:05.845626",
     "exception": false,
     "start_time": "2024-10-29T23:35:05.822651",
     "status": "completed"
    },
    "tags": []
   },
   "outputs": [],
   "source": [
    "# Define the model\n",
    "def create_model(num_classes):\n",
    "    model = models.Sequential([\n",
    "        # Input layer - spectrogram size is 48x256x1 (grayscale)\n",
    "        layers.Input(shape=(48, 256, 1)),\n",
    "        \n",
    "        # First convolutional block\n",
    "        layers.Conv2D(32, (3, 3), activation='relu', padding='same'),\n",
    "        layers.BatchNormalization(),\n",
    "        layers.MaxPooling2D((2, 2)),\n",
    "        \n",
    "        # Second convolutional block\n",
    "        layers.Conv2D(64, (3, 3), activation='relu', padding='same'),\n",
    "        layers.BatchNormalization(),\n",
    "        layers.MaxPooling2D((2, 2)),\n",
    "        \n",
    "        # Third convolutional block\n",
    "        layers.Conv2D(128, (3, 3), activation='relu', padding='same'),\n",
    "        layers.BatchNormalization(),\n",
    "        layers.MaxPooling2D((2, 2)),\n",
    "        \n",
    "        # Fourth convolutional block\n",
    "        layers.Conv2D(256, (3, 3), activation='relu', padding='same'),\n",
    "        layers.BatchNormalization(),\n",
    "        layers.MaxPooling2D((2, 2)),\n",
    "        \n",
    "        # Flatten and dense layers\n",
    "        layers.Flatten(),\n",
    "        layers.Dense(512, activation='relu'),\n",
    "        layers.Dropout(0.5),\n",
    "        layers.Dense(num_classes, activation='softmax')\n",
    "    ])\n",
    "    \n",
    "    return model\n",
    "\n",
    "\n",
    "\n",
    "# Training setup\n",
    "def train_model(model, train_data, train_labels, val_data, val_labels, log_dir, class_weight, epochs=500, batch_size=32):\n",
    "    # Compile the model\n",
    "    model.compile(\n",
    "        optimizer='adam',\n",
    "        loss='sparse_categorical_crossentropy',\n",
    "        metrics=['accuracy']\n",
    "    )\n",
    "    \n",
    "    # Add callbacks\n",
    "    callbacks = [\n",
    "        tf.keras.callbacks.EarlyStopping(\n",
    "            monitor='val_accuracy',\n",
    "            patience=10,\n",
    "            restore_best_weights=True\n",
    "        ),\n",
    "        tf.keras.callbacks.ReduceLROnPlateau(\n",
    "            monitor='val_loss',\n",
    "            factor=0.5,\n",
    "            patience=3,\n",
    "            min_lr=1e-6\n",
    "        ),\n",
    "        tf.keras.callbacks.TensorBoard(\n",
    "            log_dir=log_dir,\n",
    "            histogram_freq=1\n",
    "        )\n",
    "    ]\n",
    "     # Train the model\n",
    "    history = model.fit(\n",
    "        train_data,\n",
    "        train_labels,\n",
    "        batch_size=batch_size,\n",
    "        epochs=epochs,\n",
    "        validation_data=(val_data, val_labels),\n",
    "        callbacks=callbacks,\n",
    "        verbose=0,\n",
    "        class_weight=class_weight\n",
    "    )\n",
    "    \n",
    "    return history   "
   ]
  },
  {
   "cell_type": "code",
   "execution_count": 7,
   "id": "6f6f2adc",
   "metadata": {
    "execution": {
     "iopub.execute_input": "2024-10-29T23:35:05.858273Z",
     "iopub.status.busy": "2024-10-29T23:35:05.857907Z",
     "iopub.status.idle": "2024-10-29T23:35:06.697155Z",
     "shell.execute_reply": "2024-10-29T23:35:06.696234Z"
    },
    "papermill": {
     "duration": 0.84867,
     "end_time": "2024-10-29T23:35:06.699784",
     "exception": false,
     "start_time": "2024-10-29T23:35:05.851114",
     "status": "completed"
    },
    "tags": []
   },
   "outputs": [],
   "source": [
    "from keras.applications import EfficientNetV2B0 as efficient_net\n",
    "\n",
    "\n",
    "# Example parameters\n",
    "num_classes = 6\n",
    "\n",
    "# Create the model\n",
    "model = create_model(num_classes)\n",
    "# model = efficient_net(\n",
    "#     include_top=True,\n",
    "#     weights=None,\n",
    "#     input_tensor=None,\n",
    "#     input_shape=(48, 256, 1),\n",
    "#     pooling=None,\n",
    "#     classes=1000,\n",
    "#     classifier_activation=\"softmax\",\n",
    "#     include_preprocessing=True,\n",
    "#     )\n",
    "\n",
    "# Print model summary\n",
    "# model.summary()\n",
    "\n",
    "# Example of how to prepare and load data\n",
    "\"\"\"\n",
    "# Load your data here\n",
    "train_data = ...  # Shape: (num_samples, 48, 256)\n",
    "train_labels = ...  # Shape: (num_samples,)\n",
    "val_data = ...  # Shape: (num_val_samples, 48, 256)\n",
    "val_labels = ...  # Shape: (num_val_samples,)\n",
    "\n",
    "# Preprocess the data\n",
    "train_data = np.array([preprocess_spectrogram(spec) for spec in train_data])\n",
    "val_data = np.array([preprocess_spectrogram(spec) for spec in val_data])\n",
    "\n",
    "# Train the model\n",
    "history = train_model(model, train_data, train_labels, val_data, val_labels)\n",
    "\"\"\"\n",
    "\n",
    "\n",
    "# X_processed, X_valid = zip(*[preprocess_spectrogram(X[i]) for i in range(X.shape[0])])\n",
    "# X_valid = np.array(X_valid)\n",
    "# X_processed = np.array(X_processed)[X_valid]\n",
    "# y_processed = y[X_valid]\n",
    "\n",
    "# X_val_processed, X_val_valid = zip(*[preprocess_spectrogram(X_val[i]) for i in range(X_val.shape[0])])\n",
    "# X_val_valid = np.array(X_val_valid)\n",
    "# X_val_processed = np.array(X_val_processed)\n",
    "\n",
    "\n",
    "train_df, test_df = train_test_split(\n",
    "    data_df,\n",
    "    random_state=42,\n",
    "#     shuffle=True,\n",
    "    test_size=0.25\n",
    ")\n",
    "\n",
    "train_other_df, test_other_df = train_test_split(\n",
    "    other_df,\n",
    "    random_state=42,\n",
    "#     shuffle=True,\n",
    "    test_size=0.25\n",
    ")\n",
    "    \n",
    "                                            "
   ]
  },
  {
   "cell_type": "code",
   "execution_count": 8,
   "id": "0dd8f4bf",
   "metadata": {
    "execution": {
     "iopub.execute_input": "2024-10-29T23:35:06.712360Z",
     "iopub.status.busy": "2024-10-29T23:35:06.712016Z",
     "iopub.status.idle": "2024-10-29T23:35:06.721125Z",
     "shell.execute_reply": "2024-10-29T23:35:06.720198Z"
    },
    "papermill": {
     "duration": 0.017835,
     "end_time": "2024-10-29T23:35:06.723287",
     "exception": false,
     "start_time": "2024-10-29T23:35:06.705452",
     "status": "completed"
    },
    "tags": []
   },
   "outputs": [
    {
     "data": {
      "text/plain": [
       "Index(['row_id', 'class_id', 'filename', 'spectrogram', 'spectrogram_pre',\n",
       "       'wav', 'valid'],\n",
       "      dtype='object')"
      ]
     },
     "execution_count": 8,
     "metadata": {},
     "output_type": "execute_result"
    }
   ],
   "source": [
    "train_df.head().columns\n",
    "# %whos\n"
   ]
  },
  {
   "cell_type": "code",
   "execution_count": 9,
   "id": "90e82714",
   "metadata": {
    "execution": {
     "iopub.execute_input": "2024-10-29T23:35:06.735253Z",
     "iopub.status.busy": "2024-10-29T23:35:06.734918Z",
     "iopub.status.idle": "2024-10-29T23:35:41.196069Z",
     "shell.execute_reply": "2024-10-29T23:35:41.194931Z"
    },
    "papermill": {
     "duration": 34.470399,
     "end_time": "2024-10-29T23:35:41.198997",
     "exception": false,
     "start_time": "2024-10-29T23:35:06.728598",
     "status": "completed"
    },
    "tags": []
   },
   "outputs": [
    {
     "name": "stderr",
     "output_type": "stream",
     "text": [
      "WARNING: All log messages before absl::InitializeLog() is called are written to STDERR\n",
      "I0000 00:00:1730244911.243895      65 service.cc:145] XLA service 0x7a2e8c016d30 initialized for platform CUDA (this does not guarantee that XLA will be used). Devices:\n",
      "I0000 00:00:1730244911.243974      65 service.cc:153]   StreamExecutor device (0): Tesla P100-PCIE-16GB, Compute Capability 6.0\n",
      "WARNING: All log messages before absl::InitializeLog() is called are written to STDERR\n",
      "I0000 00:00:1730244917.076404      65 asm_compiler.cc:369] ptxas warning : Registers are spilled to local memory in function 'loop_add_subtract_fusion_7', 4 bytes spill stores, 12 bytes spill loads\n",
      "\n",
      "I0000 00:00:1730244917.085742      65 device_compiler.h:188] Compiled cluster using XLA!  This line is logged at most once for the lifetime of the process.\n"
     ]
    }
   ],
   "source": [
    "# %tensorboard --logdir logs/fit\n",
    "log_dir = \"logs/fit/\" + datetime.datetime.now().strftime(\"%Y%m%d-%H%M%S\")\n",
    "class_weight = {0: 1.,\n",
    "                1: 1.,\n",
    "                2: 1.,\n",
    "                3: 1.,\n",
    "                4: 1.,\n",
    "                5: 1.,\n",
    "               }\n",
    "\n",
    "# Train the model\n",
    "history = train_model(\n",
    "    model, \n",
    "    np.stack(pd.concat([train_df, train_other_df])['spectrogram_pre'], 1).reshape(-1, 48, 256, 1), \n",
    "    np.stack(pd.concat([train_df, train_other_df])['class_id'], 0),\n",
    "    np.stack(pd.concat([test_df, test_other_df])['spectrogram_pre'], 1).reshape(-1, 48, 256, 1), \n",
    "    np.stack(pd.concat([test_df, test_other_df])['class_id'], 0),\n",
    "    log_dir=log_dir,\n",
    "    class_weight=class_weight,\n",
    "#     batch_size = 4\n",
    ")"
   ]
  },
  {
   "cell_type": "code",
   "execution_count": 10,
   "id": "3ac9a9e5",
   "metadata": {
    "execution": {
     "iopub.execute_input": "2024-10-29T23:35:41.212954Z",
     "iopub.status.busy": "2024-10-29T23:35:41.212562Z",
     "iopub.status.idle": "2024-10-29T23:35:41.220284Z",
     "shell.execute_reply": "2024-10-29T23:35:41.219372Z"
    },
    "papermill": {
     "duration": 0.017229,
     "end_time": "2024-10-29T23:35:41.222433",
     "exception": false,
     "start_time": "2024-10-29T23:35:41.205204",
     "status": "completed"
    },
    "tags": []
   },
   "outputs": [
    {
     "data": {
      "text/plain": [
       "{'accuracy': [0.21597221493721008,\n",
       "  0.24236111342906952,\n",
       "  0.2708333432674408,\n",
       "  0.28263887763023376,\n",
       "  0.2770833373069763,\n",
       "  0.2923611104488373,\n",
       "  0.3125,\n",
       "  0.3326388895511627,\n",
       "  0.31805557012557983,\n",
       "  0.3375000059604645,\n",
       "  0.3687500059604645,\n",
       "  0.4131944477558136],\n",
       " 'loss': [9.872323989868164,\n",
       "  2.5269649028778076,\n",
       "  1.6378178596496582,\n",
       "  1.5955090522766113,\n",
       "  1.5687733888626099,\n",
       "  1.5599948167800903,\n",
       "  1.5127651691436768,\n",
       "  1.5052356719970703,\n",
       "  1.4737355709075928,\n",
       "  1.473726511001587,\n",
       "  1.4175180196762085,\n",
       "  1.3412550687789917],\n",
       " 'val_accuracy': [0.22661122679710388,\n",
       "  0.234927237033844,\n",
       "  0.20374220609664917,\n",
       "  0.20166319608688354,\n",
       "  0.2141372114419937,\n",
       "  0.2141372114419937,\n",
       "  0.22245322167873383,\n",
       "  0.19542619585990906,\n",
       "  0.18711018562316895,\n",
       "  0.2058212012052536,\n",
       "  0.23284822702407837,\n",
       "  0.20166319608688354],\n",
       " 'val_loss': [3.053640365600586,\n",
       "  1.7656899690628052,\n",
       "  1.7987470626831055,\n",
       "  1.7799288034439087,\n",
       "  1.6817076206207275,\n",
       "  1.6673840284347534,\n",
       "  1.6418591737747192,\n",
       "  1.6493275165557861,\n",
       "  1.6800322532653809,\n",
       "  1.6703689098358154,\n",
       "  1.6553888320922852,\n",
       "  1.6694693565368652],\n",
       " 'learning_rate': [0.0010000000474974513,\n",
       "  0.0010000000474974513,\n",
       "  0.0010000000474974513,\n",
       "  0.0010000000474974513,\n",
       "  0.0010000000474974513,\n",
       "  0.0010000000474974513,\n",
       "  0.0010000000474974513,\n",
       "  0.0010000000474974513,\n",
       "  0.0010000000474974513,\n",
       "  0.0010000000474974513,\n",
       "  0.0005000000237487257,\n",
       "  0.0005000000237487257]}"
      ]
     },
     "execution_count": 10,
     "metadata": {},
     "output_type": "execute_result"
    }
   ],
   "source": [
    "history.history"
   ]
  },
  {
   "cell_type": "code",
   "execution_count": 11,
   "id": "4f2a1156",
   "metadata": {
    "execution": {
     "iopub.execute_input": "2024-10-29T23:35:41.235737Z",
     "iopub.status.busy": "2024-10-29T23:35:41.235364Z",
     "iopub.status.idle": "2024-10-29T23:35:43.589992Z",
     "shell.execute_reply": "2024-10-29T23:35:43.588740Z"
    },
    "papermill": {
     "duration": 2.364396,
     "end_time": "2024-10-29T23:35:43.592697",
     "exception": false,
     "start_time": "2024-10-29T23:35:41.228301",
     "status": "completed"
    },
    "tags": []
   },
   "outputs": [
    {
     "name": "stdout",
     "output_type": "stream",
     "text": [
      "\u001b[1m35/35\u001b[0m \u001b[32m━━━━━━━━━━━━━━━━━━━━\u001b[0m\u001b[37m\u001b[0m \u001b[1m1s\u001b[0m 22ms/step\n",
      "\u001b[1m15/15\u001b[0m \u001b[32m━━━━━━━━━━━━━━━━━━━━\u001b[0m\u001b[37m\u001b[0m \u001b[1m1s\u001b[0m 53ms/step\n"
     ]
    }
   ],
   "source": [
    "pred_val_raw = model.predict(np.stack(val_df['spectrogram_pre'], 1).reshape(-1, 48, 256, 1))\n",
    "pred_val = np.argmax(pred_val_raw, 1)\n",
    "columns = ['row_id', 'bird0', 'bird1', 'bird2', 'bird3', 'bird4', 'other']\n",
    "\n",
    "pred_val_ohe = []\n",
    "for i, filename in enumerate(filenames_val):\n",
    "    pred = pred_val[i]\n",
    "    row_id = int(filename.split(os.path.sep)[-1].split('.')[0])\n",
    "    \n",
    "    new = np.zeros(len(columns))\n",
    "    new[pred + 1] = 1\n",
    "    new[0] = row_id\n",
    "    \n",
    "    pred_val_ohe.append(new)\n",
    "    \n",
    "pred_val_ohe = np.array(pred_val_ohe, dtype=np.uint16)\n",
    "pred_test_raw = model.predict(np.stack(test_df['spectrogram_pre'], 1).reshape(-1, 48, 256, 1))\n",
    "\n",
    "pred_test = np.argmax(pred_test_raw, 1)"
   ]
  },
  {
   "cell_type": "code",
   "execution_count": 12,
   "id": "ec6b55cb",
   "metadata": {
    "execution": {
     "iopub.execute_input": "2024-10-29T23:35:43.609045Z",
     "iopub.status.busy": "2024-10-29T23:35:43.608219Z",
     "iopub.status.idle": "2024-10-29T23:35:44.401167Z",
     "shell.execute_reply": "2024-10-29T23:35:44.400145Z"
    },
    "papermill": {
     "duration": 0.80387,
     "end_time": "2024-10-29T23:35:44.403808",
     "exception": false,
     "start_time": "2024-10-29T23:35:43.599938",
     "status": "completed"
    },
    "tags": []
   },
   "outputs": [
    {
     "name": "stdout",
     "output_type": "stream",
     "text": [
      "[0.22661122679710388, 0.234927237033844, 0.20374220609664917, 0.20166319608688354, 0.2141372114419937, 0.2141372114419937, 0.22245322167873383, 0.19542619585990906, 0.18711018562316895, 0.2058212012052536, 0.23284822702407837, 0.20166319608688354]\n"
     ]
    },
    {
     "data": {
      "image/png": "[encoded data removed]",
      "text/plain": [
       "<Figure size 640x480 with 2 Axes>"
      ]
     },
     "metadata": {},
     "output_type": "display_data"
    },
    {
     "data": {
      "image/png": "[encoded data removed]",
      "text/plain": [
       "<Figure size 640x480 with 2 Axes>"
      ]
     },
     "metadata": {},
     "output_type": "display_data"
    }
   ],
   "source": [
    "\n",
    "cm = confusion_matrix(np.stack(test_df['class_id']).astype(np.int64), pred_test, labels=range(6))\n",
    "disp = ConfusionMatrixDisplay(confusion_matrix=cm,\n",
    "                              display_labels=columns[1:])\n",
    "disp.plot()\n",
    "\n",
    "cm2 = confusion_matrix((np.stack(test_df['class_id'])>4).astype(np.int64), pred_test>4, labels=range(2))\n",
    "disp2 = ConfusionMatrixDisplay(confusion_matrix=cm2,\n",
    "                              display_labels=['bird', 'other'])\n",
    "disp2.plot()\n",
    "\n",
    "print(history.history['val_accuracy'])"
   ]
  },
  {
   "cell_type": "code",
   "execution_count": 13,
   "id": "39343415",
   "metadata": {
    "execution": {
     "iopub.execute_input": "2024-10-29T23:35:44.421654Z",
     "iopub.status.busy": "2024-10-29T23:35:44.421234Z",
     "iopub.status.idle": "2024-10-29T23:35:44.433338Z",
     "shell.execute_reply": "2024-10-29T23:35:44.432084Z"
    },
    "papermill": {
     "duration": 0.023931,
     "end_time": "2024-10-29T23:35:44.435769",
     "exception": false,
     "start_time": "2024-10-29T23:35:44.411838",
     "status": "completed"
    },
    "tags": []
   },
   "outputs": [
    {
     "name": "stdout",
     "output_type": "stream",
     "text": [
      "[]\n"
     ]
    }
   ],
   "source": [
    "import IPython\n",
    "\n",
    "false_predictions_indices = np.nonzero(np.multiply(np.stack(test_df['class_id']) == 5, pred_test != np.stack(test_df['class_id'])))[0]\n",
    "print(false_predictions_indices)\n",
    "\n",
    "\n",
    "\n",
    "\n",
    "for false_prediction_index in false_predictions_indices:\n",
    "    \n",
    "    path = test_df.iloc[false_prediction_index]['filename']\n",
    "    print(path, f\"Correct class: {np.stack(test_df['class_id'])[false_prediction_index]}, class assigned: {pred_test[false_prediction_index]}\")\n",
    "    IPython.display.display(IPython.display.Audio(path.replace('spectrograms', 'clips').replace('.jpeg', '.ogg')))\n",
    "    IPython.display.display(IPython.display.Image(path, width=500))\n",
    "\n",
    "\n",
    "\n",
    "\n"
   ]
  },
  {
   "cell_type": "code",
   "execution_count": 14,
   "id": "6f3c31ff",
   "metadata": {
    "execution": {
     "iopub.execute_input": "2024-10-29T23:35:44.453214Z",
     "iopub.status.busy": "2024-10-29T23:35:44.452839Z",
     "iopub.status.idle": "2024-10-29T23:35:44.639602Z",
     "shell.execute_reply": "2024-10-29T23:35:44.638749Z"
    },
    "papermill": {
     "duration": 0.198404,
     "end_time": "2024-10-29T23:35:44.642092",
     "exception": false,
     "start_time": "2024-10-29T23:35:44.443688",
     "status": "completed"
    },
    "tags": []
   },
   "outputs": [
    {
     "name": "stdout",
     "output_type": "stream",
     "text": [
      "row_id    1665725\n",
      "bird0          15\n",
      "bird1         140\n",
      "bird2           4\n",
      "bird3         884\n",
      "bird4          52\n",
      "other           0\n",
      "dtype: uint64\n"
     ]
    }
   ],
   "source": [
    "df = pd.DataFrame(pred_val_ohe, columns=columns)\n",
    "print(df.sort_values(by='row_id').sum())\n",
    "df.sort_values(by='row_id').to_csv('submission.csv', index=False)\n",
    "model.save_weights('model.weights.h5')"
   ]
  }
 ],
 "metadata": {
  "kaggle": {
   "accelerator": "gpu",
   "dataSources": [
    {
     "databundleVersionId": 8963053,
     "sourceId": 82048,
     "sourceType": "competition"
    },
    {
     "datasetId": 5968180,
     "sourceId": 9752727,
     "sourceType": "datasetVersion"
    }
   ],
   "dockerImageVersionId": 30786,
   "isGpuEnabled": true,
   "isInternetEnabled": true,
   "language": "python",
   "sourceType": "notebook"
  },
  "kernelspec": {
   "display_name": "Python 3",
   "language": "python",
   "name": "python3"
  },
  "language_info": {
   "codemirror_mode": {
    "name": "ipython",
    "version": 3
   },
   "file_extension": ".py",
   "mimetype": "text/x-python",
   "name": "python",
   "nbconvert_exporter": "python",
   "pygments_lexer": "ipython3",
   "version": "3.10.14"
  },
  "papermill": {
   "default_parameters": {},
   "duration": 84.787426,
   "end_time": "2024-10-29T23:35:47.279153",
   "environment_variables": {},
   "exception": null,
   "input_path": "__notebook__.ipynb",
   "output_path": "__notebook__.ipynb",
   "parameters": {},
   "start_time": "2024-10-29T23:34:22.491727",
   "version": "2.6.0"
  }
 },
 "nbformat": 4,
 "nbformat_minor": 5
}
